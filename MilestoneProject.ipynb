{
 "cells": [
  {
   "cell_type": "code",
   "execution_count": 1,
   "metadata": {},
   "outputs": [],
   "source": [
    "from IPython.display import clear_output\n",
    "\n",
    "def display_board(board):\n",
    "    clear_output()\n",
    "\n",
    "    print('  |   |')\n",
    "    print('' + board[7] + ' | ' + board[8] + ' | ' + board[9])\n",
    "    print('  |   |')\n",
    "    print('----------')\n",
    "    print('  |   |')\n",
    "    print('' + board[4] + ' | ' + board[5] + ' | ' + board[6])\n",
    "    print('  |   |')\n",
    "    print('----------')\n",
    "    print('  |   |')\n",
    "    print('' + board[1] + ' | ' + board[2] + ' | ' + board[3])\n",
    "    print('  |   |')"
   ]
  },
  {
   "cell_type": "code",
   "execution_count": 3,
   "metadata": {},
   "outputs": [
    {
     "name": "stdout",
     "output_type": "stream",
     "text": [
      "  |   |\n",
      "X | O | X\n",
      "  |   |\n",
      "----------\n",
      "  |   |\n",
      "O |   | X\n",
      "  |   |\n",
      "----------\n",
      "  |   |\n",
      "X | O |  \n",
      "  |   |\n"
     ]
    }
   ],
   "source": [
    "test_board = ['#', 'X', 'O', ' ', 'O', ' ', 'X', 'X', 'O', 'X']\n",
    "\n",
    "display_board(test_board)"
   ]
  },
  {
   "cell_type": "code",
   "execution_count": 4,
   "metadata": {},
   "outputs": [],
   "source": [
    "# Function to determine X or O\n",
    "\n",
    "def player_input():\n",
    "    marker = ''\n",
    "\n",
    "    while not (marker == 'X' or marker == 'O'):\n",
    "        marker = input('Player 1: Do you want to be X or O? ').upper()\n",
    "\n",
    "    if marker == 'X':\n",
    "        return ('X', 'O')\n",
    "    if marker == 'O':\n",
    "        return ('O', 'X')"
   ]
  },
  {
   "cell_type": "code",
   "execution_count": 9,
   "metadata": {},
   "outputs": [],
   "source": [
    "# Function that assigns marker to board\n",
    "\n",
    "def place_marker(board, marker, position):\n",
    "    \n",
    "    board[position] = marker\n"
   ]
  },
  {
   "cell_type": "code",
   "execution_count": 10,
   "metadata": {},
   "outputs": [
    {
     "name": "stdout",
     "output_type": "stream",
     "text": [
      "  |   |\n",
      "Somto | O | X\n",
      "  |   |\n",
      "----------\n",
      "  |   |\n",
      "O |   | X\n",
      "  |   |\n",
      "----------\n",
      "  |   |\n",
      "X | O |  \n",
      "  |   |\n"
     ]
    }
   ],
   "source": [
    "place_marker(test_board, 'Somto', 7)\n",
    "display_board(test_board)"
   ]
  },
  {
   "cell_type": "code",
   "execution_count": 11,
   "metadata": {},
   "outputs": [],
   "source": [
    "def win_check(board, mark):\n",
    "    return ((board[7] + board[8] + board[9] == mark*3) or (board[4] + board[5] + board[6] == mark*3) or (board[1] + board[2] + board[3] == mark*3) or (board[7] + board[4] + board[1] == mark*3) or (board[8] + board[5] + board[2] == mark*3) or (board[9] + board[6] + board[3] == mark*3) or (board[1] + board[5] + board[9] == mark*3) or (board[7] + board[5] + board[3] == mark*3))"
   ]
  },
  {
   "cell_type": "code",
   "execution_count": 12,
   "metadata": {},
   "outputs": [
    {
     "name": "stdout",
     "output_type": "stream",
     "text": [
      "  |   |\n",
      "Somto | O | X\n",
      "  |   |\n",
      "----------\n",
      "  |   |\n",
      "O |   | X\n",
      "  |   |\n",
      "----------\n",
      "  |   |\n",
      "X | O |  \n",
      "  |   |\n"
     ]
    },
    {
     "data": {
      "text/plain": [
       "False"
      ]
     },
     "execution_count": 12,
     "metadata": {},
     "output_type": "execute_result"
    }
   ],
   "source": [
    "display_board(test_board)\n",
    "win_check(test_board, 'X')"
   ]
  },
  {
   "cell_type": "code",
   "execution_count": 13,
   "metadata": {},
   "outputs": [],
   "source": [
    "# Function to determine which player goes first\n",
    "\n",
    "import random\n",
    "\n",
    "def choose_first():\n",
    "    if random.randint(0,1) == 0:\n",
    "        return 'Player 2'\n",
    "    return 'Player 1'"
   ]
  },
  {
   "cell_type": "code",
   "execution_count": 14,
   "metadata": {},
   "outputs": [],
   "source": [
    "# Function to determine if a space is free\n",
    "\n",
    "def space_check(board, position):\n",
    "    return board[position] == ' '"
   ]
  },
  {
   "cell_type": "code",
   "execution_count": 15,
   "metadata": {},
   "outputs": [],
   "source": [
    "# Function to check if the board is full\n",
    "\n",
    "def board_full(board):\n",
    "    \n",
    "    for i in range(1,10):\n",
    "        if space_check(board,i):\n",
    "            return False\n",
    "        \n",
    "    return True"
   ]
  },
  {
   "cell_type": "code",
   "execution_count": 16,
   "metadata": {},
   "outputs": [
    {
     "data": {
      "text/plain": [
       "False"
      ]
     },
     "execution_count": 16,
     "metadata": {},
     "output_type": "execute_result"
    }
   ],
   "source": [
    "board_full(test_board)"
   ]
  },
  {
   "cell_type": "code",
   "execution_count": 17,
   "metadata": {},
   "outputs": [],
   "source": [
    "# Function to ask for the player's next position and check if the position is free\n",
    "\n",
    "def player_choice(board):\n",
    "        \n",
    "        position = 0\n",
    "        \n",
    "        while position not in range(1,10):\n",
    "            position = input('Choose your next position (1-9): ')\n",
    "            \n",
    "            if position.isdigit():\n",
    "                if int(position) in range(1,10) and space_check(board,int(position)):\n",
    "                    return int(position)"
   ]
  },
  {
   "cell_type": "code",
   "execution_count": 18,
   "metadata": {},
   "outputs": [],
   "source": [
    "# Function asking if players want to play again\n",
    "\n",
    "def replay():\n",
    "    \n",
    "    replay = 'bball'\n",
    "    \n",
    "    while replay.upper() not in ['Y','N', 'YES', 'NO']:\n",
    "        replay = input('Do you want to play again? Enter Yes or No: ')\n",
    "        \n",
    "    return replay.upper().startswith('Y')"
   ]
  },
  {
   "cell_type": "code",
   "execution_count": 19,
   "metadata": {},
   "outputs": [
    {
     "name": "stdout",
     "output_type": "stream",
     "text": [
      "  |   |\n",
      "  |   | O\n",
      "  |   |\n",
      "----------\n",
      "  |   |\n",
      "  | X | O\n",
      "  |   |\n",
      "----------\n",
      "  |   |\n",
      "X | X | O\n",
      "  |   |\n",
      "PLAYER 2 WINS\n"
     ]
    }
   ],
   "source": [
    "# loop to run the game\n",
    "\n",
    "import time\n",
    "\n",
    "while True:\n",
    "\n",
    "    # welcome\n",
    "    \n",
    "\n",
    "    print ( 'Welcome to X and O')\n",
    "\n",
    "    game_board = [' ']*10\n",
    "\n",
    "    turn = choose_first()\n",
    "\n",
    "    print(turn + ' will go first!')\n",
    "    \n",
    "    time.sleep(2)\n",
    "    \n",
    "    player1_marker, player2_marker = player_input()\n",
    "\n",
    "    game_on = True\n",
    "        \n",
    "    \n",
    "\n",
    "    # game\n",
    "    \n",
    "    while game_on:\n",
    "        \n",
    "    \n",
    "    # player 1 turn\n",
    "        if turn == 'Player 1':\n",
    "        \n",
    "            # choose position\n",
    "            \n",
    "            display_board(game_board)\n",
    "            position = player_choice(game_board)\n",
    "            place_marker(game_board, player1_marker, position)\n",
    "\n",
    "\n",
    "            # check if win or tie\n",
    "            if win_check(game_board, player1_marker):\n",
    "                game_on = False\n",
    "                display_board(game_board)\n",
    "                print('PLAYER 1 WINS')\n",
    "\n",
    "            else:\n",
    "                if board_full(game_board):\n",
    "                    game_on = False\n",
    "                    display_board(game_board)\n",
    "                    print('TIE')\n",
    "\n",
    "                else:\n",
    "                    turn = 'Player 2'\n",
    "\n",
    "\n",
    "\n",
    "\n",
    "\n",
    "        else:\n",
    "            display_board(game_board)\n",
    "            position = player_choice(game_board)\n",
    "            place_marker(game_board, player2_marker, position)\n",
    "\n",
    "\n",
    "            # check if win or tie\n",
    "            if win_check(game_board, player2_marker):\n",
    "                game_on = False\n",
    "                display_board(game_board)\n",
    "                print('PLAYER 2 WINS')\n",
    "\n",
    "            else:\n",
    "                if board_full(game_board):\n",
    "                    game_on = False\n",
    "                    display_board(game_board)\n",
    "                    print('TIE')\n",
    "\n",
    "                else:\n",
    "                    turn = 'Player 1'\n",
    "\n",
    "\n",
    "\n",
    "\n",
    "\n",
    "\n",
    "\n",
    "\n",
    "# breaking out of the loop if not replay()\n",
    "    time.sleep(2)\n",
    "    if not replay():\n",
    "        break\n"
   ]
  },
  {
   "cell_type": "code",
   "execution_count": null,
   "metadata": {},
   "outputs": [],
   "source": []
  }
 ],
 "metadata": {
  "interpreter": {
   "hash": "4fc643fad6350cdf38cf73539f0efaf2aa42671da45e3d17ab68f3d10b971798"
  },
  "kernelspec": {
   "display_name": "Python 3.8.8 64-bit ('base': conda)",
   "name": "python3"
  },
  "language_info": {
   "codemirror_mode": {
    "name": "ipython",
    "version": 3
   },
   "file_extension": ".py",
   "mimetype": "text/x-python",
   "name": "python",
   "nbconvert_exporter": "python",
   "pygments_lexer": "ipython3",
   "version": "3.8.8"
  },
  "orig_nbformat": 4
 },
 "nbformat": 4,
 "nbformat_minor": 2
}
